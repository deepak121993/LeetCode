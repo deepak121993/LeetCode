{
 "cells": [
  {
   "cell_type": "code",
   "execution_count": null,
   "metadata": {},
   "outputs": [],
   "source": [
    "##Prison after N days\n",
    "\n",
    "def prisonAfterNDays(cells, N):\n",
    "        \n",
    "        \n",
    "        \n",
    "        def recursive_func(cell):\n",
    "            num = 0\n",
    "            cell_t = cell.copy()\n",
    "            \n",
    "            while(num < len(cell)-1):\n",
    "                \n",
    "                if((cell[num-1] == 0) & (cell[num+1] == 0) or (cell[num-1] == 1) & (cell[num+1] == 1)):\n",
    "                    \n",
    "                    cell_t[num] = 1\n",
    "                else:\n",
    "                    cell_t[num] = 0\n",
    "                \n",
    "                num += 1\n",
    "            return cell_t\n",
    "        \n",
    "        cell_tmp = cells.copy()\n",
    "        \n",
    "        for i in range(N):\n",
    "            \n",
    "            \n",
    "            cell_tmp = recursive_func(cells)\n",
    "            \n",
    "            cell_tmp[0],cell_tmp[len(cells)-1] = 0,0\n",
    "            \n",
    "            cells = cell_tmp.copy()\n",
    "                \n",
    "                \n",
    "            \n",
    "        return cells\n",
    "            "
   ]
  },
  {
   "cell_type": "code",
   "execution_count": null,
   "metadata": {},
   "outputs": [],
   "source": [
    "\n"
   ]
  },
  {
   "cell_type": "code",
   "execution_count": null,
   "metadata": {},
   "outputs": [],
   "source": []
  },
  {
   "cell_type": "code",
   "execution_count": null,
   "metadata": {},
   "outputs": [],
   "source": []
  },
  {
   "cell_type": "code",
   "execution_count": null,
   "metadata": {},
   "outputs": [],
   "source": []
  },
  {
   "cell_type": "code",
   "execution_count": 17,
   "metadata": {},
   "outputs": [
    {
     "name": "stdout",
     "output_type": "stream",
     "text": [
      "16\n"
     ]
    }
   ],
   "source": [
    "##Island Perimeter\n",
    "\n",
    "class Solution:\n",
    "    def islandPerimeter(self, grid: List[List[int]]) -> int:\n",
    "        \n",
    "        import numpy as np\n",
    "     \n",
    "\n",
    "        def ret(x):\n",
    "            return len(list(filter(None, ''.join(map(str,x)).split('0'))))*2\n",
    "        \n",
    "        b = np.array(grid)\n",
    "        xv = np.vsplit(b,b.shape[0])\n",
    "        xh = np.hsplit(b,b.shape[1])\n",
    "\n",
    "        return sum(list(map(ret,[i.ravel() for i in xv]))) + sum(list(map(ret,[i.ravel() for i in xh])))\n",
    "\n"
   ]
  },
  {
   "cell_type": "code",
   "execution_count": null,
   "metadata": {},
   "outputs": [],
   "source": []
  },
  {
   "cell_type": "code",
   "execution_count": null,
   "metadata": {},
   "outputs": [],
   "source": []
  }
 ],
 "metadata": {
  "kernelspec": {
   "display_name": "Python 3",
   "language": "python",
   "name": "python3"
  },
  "language_info": {
   "codemirror_mode": {
    "name": "ipython",
    "version": 3
   },
   "file_extension": ".py",
   "mimetype": "text/x-python",
   "name": "python",
   "nbconvert_exporter": "python",
   "pygments_lexer": "ipython3",
   "version": "3.7.4"
  }
 },
 "nbformat": 4,
 "nbformat_minor": 2
}
