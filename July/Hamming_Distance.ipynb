{
 "cells": [
  {
   "cell_type": "code",
   "execution_count": null,
   "metadata": {},
   "outputs": [],
   "source": [
    "class Solution:\n",
    "    \n",
    "#     def ConvertBinary(num):\n",
    "        \n",
    "#         if num > 1:\n",
    "#             ConvertBinary(num // 2)\n",
    "        \n",
    "#         return num % 2\n",
    "            \n",
    "        \n",
    "    def hammingDistance(self, x: int, y: int):\n",
    "        bin_x = bin(x).replace(\"0b\", \"\")\n",
    "        bin_y = bin(y).replace(\"0b\", \"\")\n",
    "        range_ = max(len(bin_x), len(bin_y))\n",
    "\n",
    "        bin_x = bin_x.zfill(range_)\n",
    "        bin_y = bin_y.zfill(range_)\n",
    "\n",
    "        l_x = list(bin_x)\n",
    "        l_y = list(bin_y)\n",
    "\n",
    "\n",
    "        count = 0\n",
    "\n",
    "        for i in range(range_):\n",
    "            try:\n",
    "                if l_x[i] != l_y[i]:\n",
    "                    count += 1\n",
    "            except:\n",
    "                count +=1\n",
    "\n",
    "\n",
    "        return count\n"
   ]
  }
 ],
 "metadata": {
  "kernelspec": {
   "display_name": "Python 3",
   "language": "python",
   "name": "python3"
  },
  "language_info": {
   "codemirror_mode": {
    "name": "ipython",
    "version": 3
   },
   "file_extension": ".py",
   "mimetype": "text/x-python",
   "name": "python",
   "nbconvert_exporter": "python",
   "pygments_lexer": "ipython3",
   "version": "3.7.4"
  }
 },
 "nbformat": 4,
 "nbformat_minor": 2
}
